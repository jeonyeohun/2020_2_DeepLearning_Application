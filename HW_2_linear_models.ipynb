{
  "nbformat": 4,
  "nbformat_minor": 0,
  "metadata": {
    "colab": {
      "name": "HW_2_linear_models.ipynb",
      "provenance": [],
      "collapsed_sections": [],
      "include_colab_link": true
    },
    "kernelspec": {
      "name": "python3",
      "display_name": "Python 3"
    }
  },
  "cells": [
    {
      "cell_type": "markdown",
      "metadata": {
        "id": "view-in-github",
        "colab_type": "text"
      },
      "source": [
        "<a href=\"https://colab.research.google.com/github/jeonyeohun/2020_2_DeepLearning_Application/blob/master/HW_2_linear_models.ipynb\" target=\"_parent\"><img src=\"https://colab.research.google.com/assets/colab-badge.svg\" alt=\"Open In Colab\"/></a>"
      ]
    },
    {
      "cell_type": "code",
      "metadata": {
        "id": "mq2U3jlEzhgM",
        "outputId": "51ea0535-6639-4f3e-f926-f236e55d116e",
        "colab": {
          "base_uri": "https://localhost:8080/",
          "height": 272
        }
      },
      "source": [
        "import random\n",
        "import numpy as np\n",
        "import sklearn as sk\n",
        "import matplotlib.pyplot as plt\n",
        "\n",
        "!pip install mglearn\n",
        "import mglearn"
      ],
      "execution_count": 126,
      "outputs": [
        {
          "output_type": "stream",
          "text": [
            "Requirement already satisfied: mglearn in /usr/local/lib/python3.6/dist-packages (0.1.9)\n",
            "Requirement already satisfied: pillow in /usr/local/lib/python3.6/dist-packages (from mglearn) (7.0.0)\n",
            "Requirement already satisfied: matplotlib in /usr/local/lib/python3.6/dist-packages (from mglearn) (3.2.2)\n",
            "Requirement already satisfied: scikit-learn in /usr/local/lib/python3.6/dist-packages (from mglearn) (0.22.2.post1)\n",
            "Requirement already satisfied: imageio in /usr/local/lib/python3.6/dist-packages (from mglearn) (2.4.1)\n",
            "Requirement already satisfied: joblib in /usr/local/lib/python3.6/dist-packages (from mglearn) (0.16.0)\n",
            "Requirement already satisfied: cycler in /usr/local/lib/python3.6/dist-packages (from mglearn) (0.10.0)\n",
            "Requirement already satisfied: pandas in /usr/local/lib/python3.6/dist-packages (from mglearn) (1.1.2)\n",
            "Requirement already satisfied: numpy in /usr/local/lib/python3.6/dist-packages (from mglearn) (1.18.5)\n",
            "Requirement already satisfied: python-dateutil>=2.1 in /usr/local/lib/python3.6/dist-packages (from matplotlib->mglearn) (2.8.1)\n",
            "Requirement already satisfied: pyparsing!=2.0.4,!=2.1.2,!=2.1.6,>=2.0.1 in /usr/local/lib/python3.6/dist-packages (from matplotlib->mglearn) (2.4.7)\n",
            "Requirement already satisfied: kiwisolver>=1.0.1 in /usr/local/lib/python3.6/dist-packages (from matplotlib->mglearn) (1.2.0)\n",
            "Requirement already satisfied: scipy>=0.17.0 in /usr/local/lib/python3.6/dist-packages (from scikit-learn->mglearn) (1.4.1)\n",
            "Requirement already satisfied: six in /usr/local/lib/python3.6/dist-packages (from cycler->mglearn) (1.15.0)\n",
            "Requirement already satisfied: pytz>=2017.2 in /usr/local/lib/python3.6/dist-packages (from pandas->mglearn) (2018.9)\n"
          ],
          "name": "stdout"
        }
      ]
    },
    {
      "cell_type": "markdown",
      "metadata": {
        "id": "R8xBOFkal5mc"
      },
      "source": [
        "## Logistic Regression"
      ]
    },
    {
      "cell_type": "markdown",
      "metadata": {
        "id": "UzyJaNAgeLmV"
      },
      "source": [
        "TO DO: define two functions GetClass1(X) and GetClass2(X)\n",
        "\n",
        "* GetClass1(X) returns (X * 0.5 + np.abs(np.sin(X * np.pi / 180)) * 180 + np.random.normal(0, 30, len(X)))\n",
        "* GetClass2(X) returns (X * 0.5 + 50 - np.abs(np.cos(X * np.pi / 180)) * 180 + np.random.normal(0, 30, len(X)))\n"
      ]
    },
    {
      "cell_type": "code",
      "metadata": {
        "id": "hZTqwAY2QFRH"
      },
      "source": [
        "def GetClass1(X):\n",
        "  return (X * 0.5 + np.abs(np.sin(X * np.pi / 180)) * 180 + np.random.normal(0, 30, len(X)))\n",
        "\n",
        "def GetClass2(X):\n",
        "  return (X * 0.5 + 50 - np.abs(np.cos(X * np.pi / 180)) * 180 + np.random.normal(0, 30, len(X)))"
      ],
      "execution_count": 127,
      "outputs": []
    },
    {
      "cell_type": "markdown",
      "metadata": {
        "id": "r3HMkcy1edaD"
      },
      "source": [
        "TO DO:\n",
        "* Set random seed by 12 using np.random.seed()\n",
        "* Create an array composed of 100 numbers from 0 to 360\n",
        "* Draw plot using X and GetClass1(X)\n",
        "* Draw plot using X and GetClass2(X)"
      ]
    },
    {
      "cell_type": "code",
      "metadata": {
        "id": "WalPXBHg0r9q",
        "outputId": "f928cc3c-d615-4e4a-8615-779e59cd4b2d",
        "colab": {
          "base_uri": "https://localhost:8080/",
          "height": 282
        }
      },
      "source": [
        "np.random.seed(12)\n",
        "X = np.linspace(0, 360, 100)\n",
        "\n",
        "plt.plot(X, GetClass1(X))\n",
        "plt.plot(X, GetClass2(X))\n",
        "plt.show"
      ],
      "execution_count": 128,
      "outputs": [
        {
          "output_type": "execute_result",
          "data": {
            "text/plain": [
              "<function matplotlib.pyplot.show>"
            ]
          },
          "metadata": {
            "tags": []
          },
          "execution_count": 128
        },
        {
          "output_type": "display_data",
          "data": {
            "image/png": "[encoded data removed]",
            "text/plain": [
              "<Figure size 432x288 with 1 Axes>"
            ]
          },
          "metadata": {
            "tags": [],
            "needs_background": "light"
          }
        }
      ]
    },
    {
      "cell_type": "markdown",
      "metadata": {
        "id": "1jyoWlHDfSgE"
      },
      "source": [
        "TO DO: Create class 1 samples\n",
        "* Create an array $x_{11}$ composed of 50 random numbers between 0 and 360.\n",
        "* Create an array $x_{12}$ by GetClass1($x_{11}$).\n",
        "* Create an array $y_1$ of size 50 filled with zeros.\n",
        "* Combine $x_{11}$, $x_{12}$ and $y_1$ to make a 50x3 array $d_1$. (Use np.expand_dims() and np.concatenate().)\n",
        "* print the first 10 rows of $d_1$"
      ]
    },
    {
      "cell_type": "code",
      "metadata": {
        "id": "mcDUtreZ2Wz1",
        "outputId": "49e1322b-d5e5-4d3f-c67f-7fdc3b28c10b",
        "colab": {
          "base_uri": "https://localhost:8080/",
          "height": 187
        }
      },
      "source": [
        "x11 = np.random.uniform(0, 360, 50)\n",
        "x12 = GetClass1(x11)\n",
        "y1 = np.zeros(50)\n",
        "\n",
        "d1 = np.concatenate((np.expand_dims(x11, axis=1), np.expand_dims(x12, axis=1), np.expand_dims(y1, axis=1)), axis=1)\n",
        "\n",
        "print(\"d1 = \", d1[:10])"
      ],
      "execution_count": 129,
      "outputs": [
        {
          "output_type": "stream",
          "text": [
            "d1 =  [[ 13.658839    56.07105357   0.        ]\n",
            " [ 55.80406329 141.87970265   0.        ]\n",
            " [ 61.43364224  98.32685969   0.        ]\n",
            " [277.312394   335.01132799   0.        ]\n",
            " [ 86.11147478 232.58314643   0.        ]\n",
            " [268.9812314  282.27771924   0.        ]\n",
            " [125.09790647 248.50314149   0.        ]\n",
            " [238.03681255 269.16267577   0.        ]\n",
            " [235.63943994 252.1114025    0.        ]\n",
            " [ 83.87133944 191.99547334   0.        ]]\n"
          ],
          "name": "stdout"
        }
      ]
    },
    {
      "cell_type": "markdown",
      "metadata": {
        "id": "PAouMCjwg9yR"
      },
      "source": [
        "TO DO: Create class 2 samples\n",
        "* Create an array $x_{21}$ composed of 50 random numbers between 0 and 360.\n",
        "* Create an array $x_{22}$ by GetClass2($x_{21}$).\n",
        "* Create an array $y_2$ of size 50 filled with ones.\n",
        "* Combine $x_{21}$, $x_{22}$ and $y_2$ to make a 50x3 array $d_2$. (Use np.expand_dims() and np.concatenate().)\n",
        "* print the first 10 rows of $d_2$"
      ]
    },
    {
      "cell_type": "code",
      "metadata": {
        "id": "iBKqAxf5fZT6",
        "outputId": "b713c723-9489-4742-8fa3-4e7bffcf90f8",
        "colab": {
          "base_uri": "https://localhost:8080/",
          "height": 187
        }
      },
      "source": [
        "x21 = np.random.uniform(0, 360, 50)\n",
        "x22 = GetClass2(x21)\n",
        "y2 = np.ones(50)\n",
        "\n",
        "d2 = np.concatenate((np.expand_dims(x21, axis=1), np.expand_dims(x22, axis=1), np.expand_dims(y2, axis=1)), axis=1)\n",
        "\n",
        "print(\"d2 = \", d2[:10])"
      ],
      "execution_count": 130,
      "outputs": [
        {
          "output_type": "stream",
          "text": [
            "d2 =  [[202.11365676  -4.40781031   1.        ]\n",
            " [ 37.11143784 -80.78783649   1.        ]\n",
            " [112.07735169  22.29304467   1.        ]\n",
            " [290.47736536 158.97892151   1.        ]\n",
            " [174.97262355 -53.99433601   1.        ]\n",
            " [344.06435284  17.82628423   1.        ]\n",
            " [257.24052307 158.03712683   1.        ]\n",
            " [ 41.48832038 -68.78765653   1.        ]\n",
            " [161.23024625 -29.87055773   1.        ]\n",
            " [189.63701275 -23.00935382   1.        ]]\n"
          ],
          "name": "stdout"
        }
      ]
    },
    {
      "cell_type": "markdown",
      "metadata": {
        "id": "_B6ieV5oh12-"
      },
      "source": [
        "TO DO: Make X and y from $d_1$ and $d_2$.\n",
        "* Combine $d_1$ and $d_2$ to make a 100x3 array $d$.\n",
        "* Shuffle the row of $d$ using np.random.shuffle().\n",
        "* Create a 100x2 array $X$ by the first two columns of $d$.\n",
        "* Create a single rank array $y$ by the last column of $d$.\n",
        "* Print the first 10 rows of X\n",
        "* Print the first 10 elements of y"
      ]
    },
    {
      "cell_type": "code",
      "metadata": {
        "id": "Ak16o66f_v4c",
        "outputId": "db0cd40b-2a2a-4ced-b1dc-ba29156aef8a",
        "colab": {
          "base_uri": "https://localhost:8080/",
          "height": 204
        }
      },
      "source": [
        "\n",
        "d = np.concatenate((d1, d2), axis=0)\n",
        "np.random.shuffle(d)\n",
        "X = d[:100, :2]\n",
        "y = np.squeeze(d[:100, -1])\n",
        "\n",
        "print(\"X = \", X[:10])\n",
        "print(\"y = \", y[:10])"
      ],
      "execution_count": 131,
      "outputs": [
        {
          "output_type": "stream",
          "text": [
            "X =  [[  4.99052932  21.19180388]\n",
            " [335.28798028  72.71503033]\n",
            " [ 19.18211324 -82.4172931 ]\n",
            " [151.5509172  196.14291664]\n",
            " [125.09790647 248.50314149]\n",
            " [257.24052307 158.03712683]\n",
            " [170.46121082 -59.66050965]\n",
            " [305.52197828 104.65034349]\n",
            " [277.312394   335.01132799]\n",
            " [ 59.68092879 -28.41599808]]\n",
            "y =  [0. 1. 1. 0. 0. 1. 1. 1. 0. 1.]\n"
          ],
          "name": "stdout"
        }
      ]
    },
    {
      "cell_type": "markdown",
      "metadata": {
        "id": "KuSV1_MmjVoh"
      },
      "source": [
        "TO DO: Draw scatter chart using mglearn.discrete_scatter()"
      ]
    },
    {
      "cell_type": "code",
      "metadata": {
        "id": "3xaellZh2f1G",
        "outputId": "ad738664-7556-4bb2-d5e4-2b473d2895da",
        "colab": {
          "base_uri": "https://localhost:8080/",
          "height": 299
        }
      },
      "source": [
        "mglearn.discrete_scatter(X[:, 0], X[:, 1], y)"
      ],
      "execution_count": 132,
      "outputs": [
        {
          "output_type": "execute_result",
          "data": {
            "text/plain": [
              "[<matplotlib.lines.Line2D at 0x7f5966cdf710>,\n",
              " <matplotlib.lines.Line2D at 0x7f5966cdfdd8>]"
            ]
          },
          "metadata": {
            "tags": []
          },
          "execution_count": 132
        },
        {
          "output_type": "display_data",
          "data": {
            "image/png": "[encoded data removed]",
            "text/plain": [
              "<Figure size 432x288 with 1 Axes>"
            ]
          },
          "metadata": {
            "tags": [],
            "needs_background": "light"
          }
        }
      ]
    },
    {
      "cell_type": "markdown",
      "metadata": {
        "id": "DbAVABpskiaJ"
      },
      "source": [
        "TO DO: split X and y into a training set and a test set using train_test_split()"
      ]
    },
    {
      "cell_type": "code",
      "metadata": {
        "id": "0cfer07ekAcA"
      },
      "source": [
        "X_train, X_test, y_train, y_test = sk.model_selection.train_test_split(X, y)"
      ],
      "execution_count": 134,
      "outputs": []
    },
    {
      "cell_type": "markdown",
      "metadata": {
        "id": "OVZ4KmGSj4RL"
      },
      "source": [
        "TO DO: Create a LogisticRegression object and train with the training samples"
      ]
    },
    {
      "cell_type": "code",
      "metadata": {
        "id": "OSz-YBj4_Ehk",
        "outputId": "d8f5a038-d21c-4de0-b99f-b451a803e4e9",
        "colab": {
          "base_uri": "https://localhost:8080/",
          "height": 122
        }
      },
      "source": [
        "lg = sk.linear_model.LogisticRegression()\n",
        "lg.fit(X_train, y_train)"
      ],
      "execution_count": 136,
      "outputs": [
        {
          "output_type": "execute_result",
          "data": {
            "text/plain": [
              "LogisticRegression(C=1.0, class_weight=None, dual=False, fit_intercept=True,\n",
              "                   intercept_scaling=1, l1_ratio=None, max_iter=100,\n",
              "                   multi_class='auto', n_jobs=None, penalty='l2',\n",
              "                   random_state=None, solver='lbfgs', tol=0.0001, verbose=0,\n",
              "                   warm_start=False)"
            ]
          },
          "metadata": {
            "tags": []
          },
          "execution_count": 136
        }
      ]
    },
    {
      "cell_type": "markdown",
      "metadata": {
        "id": "HpYHq2gTkxSB"
      },
      "source": [
        "TO DO: Compare the predicted values with the ground truth values.\n",
        "* Predict y of the test input samples (e.g., X_test) using the LogisticRegression object\n",
        "* Compare the predicted values and the groud truth values as the output example."
      ]
    },
    {
      "cell_type": "code",
      "metadata": {
        "id": "swAjmTb6Y_JP",
        "outputId": "29e98af8-86cc-480d-d6ca-713c6e683c20",
        "colab": {
          "base_uri": "https://localhost:8080/",
          "height": 442
        }
      },
      "source": [
        "y = lg.predict(X_test)\n",
        "\n",
        "result = (y_test == y)\n",
        "\n",
        "for i in range(len(y_test)):\n",
        "  print(y[i] , \"vs.\", y_test[i], \"(match = \", y[i] == y_test[i], \")\")"
      ],
      "execution_count": 145,
      "outputs": [
        {
          "output_type": "stream",
          "text": [
            "1.0 vs. 0.0 (match =  False )\n",
            "1.0 vs. 1.0 (match =  True )\n",
            "1.0 vs. 1.0 (match =  True )\n",
            "1.0 vs. 1.0 (match =  True )\n",
            "0.0 vs. 0.0 (match =  True )\n",
            "1.0 vs. 1.0 (match =  True )\n",
            "0.0 vs. 0.0 (match =  True )\n",
            "0.0 vs. 0.0 (match =  True )\n",
            "1.0 vs. 1.0 (match =  True )\n",
            "0.0 vs. 0.0 (match =  True )\n",
            "1.0 vs. 1.0 (match =  True )\n",
            "0.0 vs. 0.0 (match =  True )\n",
            "1.0 vs. 1.0 (match =  True )\n",
            "0.0 vs. 0.0 (match =  True )\n",
            "1.0 vs. 1.0 (match =  True )\n",
            "1.0 vs. 1.0 (match =  True )\n",
            "1.0 vs. 1.0 (match =  True )\n",
            "0.0 vs. 0.0 (match =  True )\n",
            "0.0 vs. 0.0 (match =  True )\n",
            "0.0 vs. 0.0 (match =  True )\n",
            "0.0 vs. 0.0 (match =  True )\n",
            "1.0 vs. 1.0 (match =  True )\n",
            "0.0 vs. 0.0 (match =  True )\n",
            "0.0 vs. 0.0 (match =  True )\n",
            "1.0 vs. 1.0 (match =  True )\n"
          ],
          "name": "stdout"
        }
      ]
    },
    {
      "cell_type": "markdown",
      "metadata": {
        "id": "Ji92TUZjlhDq"
      },
      "source": [
        "TO DO: Print the training accuracy and test accuracy"
      ]
    },
    {
      "cell_type": "code",
      "metadata": {
        "id": "0Au_uU9lksSr",
        "outputId": "b45f866a-bc81-4c48-f322-2c2dd1ca57d7",
        "colab": {
          "base_uri": "https://localhost:8080/",
          "height": 51
        }
      },
      "source": [
        "print(\"traning accuracy =\", lg.score(X_train, y_train))\n",
        "print(\"test accuracy =\", lg.score(X_test, y_test))\n"
      ],
      "execution_count": 146,
      "outputs": [
        {
          "output_type": "stream",
          "text": [
            "traning accuracy = 0.9333333333333333\n",
            "test accuracy = 0.96\n"
          ],
          "name": "stdout"
        }
      ]
    },
    {
      "cell_type": "markdown",
      "metadata": {
        "id": "MOz9-pZ4kdWN"
      },
      "source": [
        "### Ridge regression"
      ]
    },
    {
      "cell_type": "markdown",
      "metadata": {
        "id": "n5A7iVEll-Mr"
      },
      "source": [
        "TO DO: Create input and output samples\n",
        "* Create a 100x1 array $X$ composed of 100 numbers from 0 to 100.\n",
        "* Create a 1D array $y$ from the 1st column of $X$ using the following formula: $y = (x-30)^2+100 + \\epsilon$, where $\\epsilon \\in N(0, 100^2)$.\n",
        "* Draw graph with X and y using plt.plot()"
      ]
    },
    {
      "cell_type": "code",
      "metadata": {
        "id": "QZkwQgRkZUXR",
        "outputId": "69c5d02c-d3ce-4eb0-d6f6-911bef2fa4cd",
        "colab": {
          "base_uri": "https://localhost:8080/",
          "height": 265
        }
      },
      "source": [
        "X = np.expand_dims(np.linspace(0, 100, 100), axis=1)\n",
        "y = (X[:, 0]-30)**2 + 100 + np.random.normal(0, 100, 100)\n",
        "\n",
        "plt.plot(X, y)\n",
        "plt.show()"
      ],
      "execution_count": 230,
      "outputs": [
        {
          "output_type": "display_data",
          "data": {
            "image/png": "[encoded data removed]",
            "text/plain": [
              "<Figure size 432x288 with 1 Axes>"
            ]
          },
          "metadata": {
            "tags": [],
            "needs_background": "light"
          }
        }
      ]
    },
    {
      "cell_type": "markdown",
      "metadata": {
        "id": "Zf1bmT3VnMgR"
      },
      "source": [
        "TO DO: Create an object of Ridge and train it with $X$ and $y$."
      ]
    },
    {
      "cell_type": "code",
      "metadata": {
        "id": "3ek2rkohcSmf",
        "outputId": "567e473b-3897-4032-8e1d-08e33125ddd1",
        "colab": {
          "base_uri": "https://localhost:8080/",
          "height": 51
        }
      },
      "source": [
        "rdg = sk.linear_model.Ridge()\n",
        "rdg.fit(X, y)"
      ],
      "execution_count": 231,
      "outputs": [
        {
          "output_type": "execute_result",
          "data": {
            "text/plain": [
              "Ridge(alpha=1.0, copy_X=True, fit_intercept=True, max_iter=None,\n",
              "      normalize=False, random_state=None, solver='auto', tol=0.001)"
            ]
          },
          "metadata": {
            "tags": []
          },
          "execution_count": 231
        }
      ]
    },
    {
      "cell_type": "markdown",
      "metadata": {
        "id": "BARkjVwtnX74"
      },
      "source": [
        "TO DO: Plot $X$, $y$ and the prediction of Ridge from $X$."
      ]
    },
    {
      "cell_type": "code",
      "metadata": {
        "id": "ifFs-LgZdpXz",
        "outputId": "96235e4b-fdc8-4251-f35c-140b28c0ae16",
        "colab": {
          "base_uri": "https://localhost:8080/",
          "height": 265
        }
      },
      "source": [
        "result = rdg.predict(X)\n",
        "plt.plot(X, y)\n",
        "plt.plot(result)\n",
        "plt.show()\n"
      ],
      "execution_count": 234,
      "outputs": [
        {
          "output_type": "display_data",
          "data": {
            "image/png": "[encoded data removed]",
            "text/plain": [
              "<Figure size 432x288 with 1 Axes>"
            ]
          },
          "metadata": {
            "tags": [],
            "needs_background": "light"
          }
        }
      ]
    },
    {
      "cell_type": "markdown",
      "metadata": {
        "id": "G_EZtzSgr5pp"
      },
      "source": [
        "### Polynomial regression"
      ]
    },
    {
      "cell_type": "markdown",
      "metadata": {
        "id": "FmyVaZUkp92O"
      },
      "source": [
        "TO DO: Create a 100x2 array $X_2$ derived from $X$.\n",
        "* The first column is the same as $X$.\n",
        "* The second column is composed of $X[i,0]^2$'s.\n",
        "* Print the first 10 rows of $X_2$."
      ]
    },
    {
      "cell_type": "code",
      "metadata": {
        "id": "wR9Jy6nbpCUl",
        "outputId": "59f72b3c-46a8-4af5-ab20-7f54279551ca",
        "colab": {
          "base_uri": "https://localhost:8080/",
          "height": 187
        }
      },
      "source": [
        "X2 = np.concatenate((np.expand_dims(X[:, 0], axis=1), np.expand_dims(X[:,0]**2, axis=1)), axis=1)\n",
        "print(X2[:10])"
      ],
      "execution_count": 261,
      "outputs": [
        {
          "output_type": "stream",
          "text": [
            "[[ 0.          0.        ]\n",
            " [ 1.01010101  1.02030405]\n",
            " [ 2.02020202  4.0812162 ]\n",
            " [ 3.03030303  9.18273646]\n",
            " [ 4.04040404 16.32486481]\n",
            " [ 5.05050505 25.50760127]\n",
            " [ 6.06060606 36.73094582]\n",
            " [ 7.07070707 49.99489848]\n",
            " [ 8.08080808 65.29945924]\n",
            " [ 9.09090909 82.6446281 ]]\n"
          ],
          "name": "stdout"
        }
      ]
    },
    {
      "cell_type": "markdown",
      "metadata": {
        "id": "bS5vwWnKqlqY"
      },
      "source": [
        "To DO: Create another Ridge object and training it with $X_2$ and $y$"
      ]
    },
    {
      "cell_type": "code",
      "metadata": {
        "id": "x5bAnuU8pbPy",
        "outputId": "d45437f0-beca-4ad4-f839-47b9021e490f",
        "colab": {
          "base_uri": "https://localhost:8080/",
          "height": 51
        }
      },
      "source": [
        "rdg2 = sk.linear_model.Ridge()\n",
        "rdg2.fit(X2, y)"
      ],
      "execution_count": 262,
      "outputs": [
        {
          "output_type": "execute_result",
          "data": {
            "text/plain": [
              "Ridge(alpha=1.0, copy_X=True, fit_intercept=True, max_iter=None,\n",
              "      normalize=False, random_state=None, solver='auto', tol=0.001)"
            ]
          },
          "metadata": {
            "tags": []
          },
          "execution_count": 262
        }
      ]
    },
    {
      "cell_type": "markdown",
      "metadata": {
        "id": "XuvOrBphrc7f"
      },
      "source": [
        "TO DO: Plot $X_2[:,0]$, $y$ and the prediction of Ridge from $X_2$."
      ]
    },
    {
      "cell_type": "code",
      "metadata": {
        "id": "D6cXMMaWpwPa",
        "outputId": "94fa8ca4-a728-43cd-ad86-08156a8089d6",
        "colab": {
          "base_uri": "https://localhost:8080/",
          "height": 265
        }
      },
      "source": [
        "rlt = rdg2.predict(X2)\n",
        "plt.plot(X2[:, 0], y)\n",
        "plt.plot(rlt)\n",
        "plt.show()"
      ],
      "execution_count": 265,
      "outputs": [
        {
          "output_type": "display_data",
          "data": {
            "image/png": "[encoded data removed]",
            "text/plain": [
              "<Figure size 432x288 with 1 Axes>"
            ]
          },
          "metadata": {
            "tags": [],
            "needs_background": "light"
          }
        }
      ]
    },
    {
      "cell_type": "code",
      "metadata": {
        "id": "rbSWhfUqp43c"
      },
      "source": [
        ""
      ],
      "execution_count": null,
      "outputs": []
    }
  ]
}