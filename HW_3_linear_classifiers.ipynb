{
  "nbformat": 4,
  "nbformat_minor": 0,
  "metadata": {
    "colab": {
      "name": "HW_3_linear_classifiers.ipynb",
      "provenance": [],
      "collapsed_sections": [],
      "include_colab_link": true
    },
    "kernelspec": {
      "name": "python3",
      "display_name": "Python 3"
    }
  },
  "cells": [
    {
      "cell_type": "markdown",
      "metadata": {
        "id": "view-in-github",
        "colab_type": "text"
      },
      "source": [
        "<a href=\"https://colab.research.google.com/github/jeonyeohun/2020_2_DeepLearning_Application/blob/master/HW_3_linear_classifiers.ipynb\" target=\"_parent\"><img src=\"https://colab.research.google.com/assets/colab-badge.svg\" alt=\"Open In Colab\"/></a>"
      ]
    },
    {
      "cell_type": "code",
      "metadata": {
        "id": "zRMDSYJzIVoN"
      },
      "source": [
        "import numpy as np\n",
        "import sklearn as sk\n",
        "from sklearn.model_selection import train_test_split"
      ],
      "execution_count": 292,
      "outputs": []
    },
    {
      "cell_type": "markdown",
      "metadata": {
        "id": "pKzPfWGw_uJb"
      },
      "source": [
        "TO DO: import load_wine from sklearn.datasets\n",
        " Then, create an instance __dataset__ by calling load_wine()"
      ]
    },
    {
      "cell_type": "code",
      "metadata": {
        "id": "38JjqKgiLVkb"
      },
      "source": [
        "from sklearn.datasets import load_wine \n",
        "dataset = load_wine()"
      ],
      "execution_count": 293,
      "outputs": []
    },
    {
      "cell_type": "markdown",
      "metadata": {
        "id": "xNg7UCY3_-Vq"
      },
      "source": [
        "TO DO: Display dataset.keys() and the elements of dataset."
      ]
    },
    {
      "cell_type": "code",
      "metadata": {
        "id": "X3r1_VXrLdbp",
        "outputId": "2511c069-0496-434b-c2d4-469456750c8d",
        "colab": {
          "base_uri": "https://localhost:8080/",
          "height": 34
        }
      },
      "source": [
        "dataset.keys()"
      ],
      "execution_count": 294,
      "outputs": [
        {
          "output_type": "execute_result",
          "data": {
            "text/plain": [
              "dict_keys(['data', 'target', 'target_names', 'DESCR', 'feature_names'])"
            ]
          },
          "metadata": {
            "tags": []
          },
          "execution_count": 294
        }
      ]
    },
    {
      "cell_type": "markdown",
      "metadata": {
        "id": "2CbXJoepATMI"
      },
      "source": [
        "TO DO: Split dataset into train and test sets, and print the shape of X_train, y_train, X_test and y_test"
      ]
    },
    {
      "cell_type": "code",
      "metadata": {
        "id": "WXswUsplL-vJ",
        "outputId": "7623b102-b280-4d17-f092-91a32ea7780e",
        "colab": {
          "base_uri": "https://localhost:8080/",
          "height": 85
        }
      },
      "source": [
        "X_train, X_test, y_train, y_test = train_test_split(dataset['data'], dataset['target'])\n",
        "\n",
        "print('X_train.shape = ', X_train.shape)\n",
        "print('y_train.shape = ', y_train.shape)\n",
        "print('X_test.shape = ', X_test.shape)\n",
        "print('y_test.shape = ', y_test.shape)\n"
      ],
      "execution_count": 295,
      "outputs": [
        {
          "output_type": "stream",
          "text": [
            "X_train.shape =  (133, 13)\n",
            "y_train.shape =  (133,)\n",
            "X_test.shape =  (45, 13)\n",
            "y_test.shape =  (45,)\n"
          ],
          "name": "stdout"
        }
      ]
    },
    {
      "cell_type": "markdown",
      "metadata": {
        "id": "lX1xxXFyDUMa"
      },
      "source": [
        "TO DO: Build a classifier for the wine dataset using LogisicRegression, and print the accuracy on the training and test data.\n"
      ]
    },
    {
      "cell_type": "code",
      "metadata": {
        "id": "u9sTOX_f1RTl",
        "outputId": "7928c60d-c1ec-4425-8afd-6e3634ae7afd",
        "colab": {
          "base_uri": "https://localhost:8080/",
          "height": 187
        }
      },
      "source": [
        "from sklearn.linear_model import LogisticRegression\n",
        "\n",
        "logi = LogisticRegression().fit(X_train, y_train)\n",
        "logi_result = logi.predict(X_test)\n",
        "\n",
        "print('train score = ', logi.score(X_train, y_train))\n",
        "print('test score = ', logi.score(X_test, y_test))"
      ],
      "execution_count": 296,
      "outputs": [
        {
          "output_type": "stream",
          "text": [
            "train score =  0.9624060150375939\n",
            "test score =  1.0\n"
          ],
          "name": "stdout"
        },
        {
          "output_type": "stream",
          "text": [
            "/usr/local/lib/python3.6/dist-packages/sklearn/linear_model/_logistic.py:940: ConvergenceWarning: lbfgs failed to converge (status=1):\n",
            "STOP: TOTAL NO. of ITERATIONS REACHED LIMIT.\n",
            "\n",
            "Increase the number of iterations (max_iter) or scale the data as shown in:\n",
            "    https://scikit-learn.org/stable/modules/preprocessing.html\n",
            "Please also refer to the documentation for alternative solver options:\n",
            "    https://scikit-learn.org/stable/modules/linear_model.html#logistic-regression\n",
            "  extra_warning_msg=_LOGISTIC_SOLVER_CONVERGENCE_MSG)\n"
          ],
          "name": "stderr"
        }
      ]
    },
    {
      "cell_type": "markdown",
      "metadata": {
        "id": "RJiONBoRD58c"
      },
      "source": [
        "TO DO: Save the weight matrix and bias vector of the LogisticRegression instance as W_lr and b_lr. Then, print them."
      ]
    },
    {
      "cell_type": "code",
      "metadata": {
        "id": "Qh1T4ZYv5RL4",
        "outputId": "35c415ba-31ef-42c6-adaa-eeafc7f02712",
        "colab": {
          "base_uri": "https://localhost:8080/",
          "height": 238
        }
      },
      "source": [
        "W_lr = logi.coef_\n",
        "print('W_lr = ', W_lr)\n",
        "\n",
        "b_lr = logi.intercept_\n",
        "print('b_lr = ', b_lr)"
      ],
      "execution_count": 297,
      "outputs": [
        {
          "output_type": "stream",
          "text": [
            "W_lr =  [[-1.50251731e-01  2.60622568e-01  1.81493258e-01 -1.75011976e-01\n",
            "  -3.40662812e-02  2.16231070e-01  5.51877142e-01 -1.86392471e-02\n",
            "   1.15326283e-01 -4.42996090e-02 -6.40727101e-03  3.49554127e-01\n",
            "   8.03170315e-03]\n",
            " [ 5.39366497e-01 -6.90705794e-01 -1.72718438e-01  1.86084160e-01\n",
            "  -5.91676101e-03  2.70924116e-01  4.06994684e-01  2.21067195e-02\n",
            "   3.18898997e-01 -1.08904399e+00  2.18666108e-01  3.42900498e-01\n",
            "  -7.91627826e-03]\n",
            " [-3.89114765e-01  4.30083226e-01 -8.77481986e-03 -1.10721838e-02\n",
            "   3.99830422e-02 -4.87155186e-01 -9.58871826e-01 -3.46747239e-03\n",
            "  -4.34225279e-01  1.13334360e+00 -2.12258837e-01 -6.92454625e-01\n",
            "  -1.15424888e-04]]\n",
            "b_lr =  [-0.0466068   0.09915712 -0.05255031]\n"
          ],
          "name": "stdout"
        }
      ]
    },
    {
      "cell_type": "markdown",
      "metadata": {
        "id": "alKUm1U8Edmz"
      },
      "source": [
        "TO DO: Build a classifier for the wine dataset using LinearSVC, and print the accuracy on the training and test data."
      ]
    },
    {
      "cell_type": "code",
      "metadata": {
        "id": "Yyl-vVDQmD1N",
        "outputId": "0a0e7fd0-bf44-4009-bc0f-054bdb258c6a",
        "colab": {
          "base_uri": "https://localhost:8080/",
          "height": 85
        }
      },
      "source": [
        "from sklearn.svm import LinearSVC\n",
        "\n",
        "lsvc = LinearSVC().fit(X_train, y_train)\n",
        "svc_result = lsvc.predict(X_test)\n",
        "\n",
        "print('train score = ', lsvc.score(X_train, y_train))\n",
        "print('test score = ', lsvc.score(X_test, y_test))"
      ],
      "execution_count": 298,
      "outputs": [
        {
          "output_type": "stream",
          "text": [
            "train score =  0.8571428571428571\n",
            "test score =  0.9555555555555556\n"
          ],
          "name": "stdout"
        },
        {
          "output_type": "stream",
          "text": [
            "/usr/local/lib/python3.6/dist-packages/sklearn/svm/_base.py:947: ConvergenceWarning: Liblinear failed to converge, increase the number of iterations.\n",
            "  \"the number of iterations.\", ConvergenceWarning)\n"
          ],
          "name": "stderr"
        }
      ]
    },
    {
      "cell_type": "markdown",
      "metadata": {
        "id": "xoUZ6HwWE35T"
      },
      "source": [
        "TO DO: Save the weight matrix and bias vector of the LinearSVC instance as W_svc and b_svc. Then, print them."
      ]
    },
    {
      "cell_type": "code",
      "metadata": {
        "id": "JxPkuSWsuoiV",
        "outputId": "7a519605-250d-46b9-982c-e77d892303ff",
        "colab": {
          "base_uri": "https://localhost:8080/",
          "height": 238
        }
      },
      "source": [
        "W_svc = lsvc.coef_\n",
        "print('W_svc = ', W_svc)\n",
        "\n",
        "b_svc = lsvc.intercept_\n",
        "print('b_svc = ', b_svc)"
      ],
      "execution_count": 299,
      "outputs": [
        {
          "output_type": "stream",
          "text": [
            "W_svc =  [[-3.76160444e-02 -5.21198828e-03 -2.41647503e-04 -9.67543793e-02\n",
            "  -7.75200627e-03  7.85725086e-03  2.86339022e-02 -3.66743419e-03\n",
            "   6.63495194e-03 -2.96150039e-02 -9.83336044e-04  1.33064794e-02\n",
            "   2.69760056e-03]\n",
            " [ 4.21345334e-02 -8.22203744e-02 -4.34570210e-03  3.70362956e-02\n",
            "   6.80986180e-03  4.75363609e-02  7.99634882e-02  4.46929460e-04\n",
            "   4.89818191e-02 -1.85924226e-01  2.64239612e-02  7.10545845e-02\n",
            "  -2.88466275e-03]\n",
            " [-2.97856143e-02  8.17459461e-02  1.97560247e-04  3.51764162e-03\n",
            "  -4.93350963e-03 -6.73238242e-02 -1.36374234e-01  3.06531429e-03\n",
            "  -5.84441024e-02  2.11488485e-01 -2.66050975e-02 -9.98518416e-02\n",
            "   1.52794952e-04]]\n",
            "b_svc =  [-0.00453796  0.00837967 -0.00557702]\n"
          ],
          "name": "stdout"
        }
      ]
    },
    {
      "cell_type": "markdown",
      "metadata": {
        "id": "fZk0kiO0Aiop"
      },
      "source": [
        "TO DO: Define a class __SimpleLinearClassifier__ composed of the following functions:\n",
        "\n",
        "* __\\_\\_init\\_\\___(self, weight, bias) - takes a weight matrix and a bias vector as input and stores them in instance variables\n",
        "\n",
        "* __predict(self, X)__ - takes an array of rank 2 as input, and returns the classification results as an array of rank 1\n",
        "\n",
        "* __probability(self, X)__ - takes an array of rank 2 as input and returns the probabilities that each sample belongs to each class as an array of rank 2. (You need to implement the softmax function to convert logits into probabilities.)\n",
        "\n",
        "* __score(self, X, y)__ - takes an input data (rank 2) and a target vector (rank 1) as input, and returns the accuracy as a scalar value.\n",
        "\n",
        "\n",
        "The __SimpleLinearClassifier__ should work as the following examples."
      ]
    },
    {
      "cell_type": "code",
      "metadata": {
        "id": "pDnCF1mjvFJA"
      },
      "source": [
        "# Define SimpleLienarClassfier here.\n",
        "class SimpleLinearClassifier:\n",
        "  def __init__(self, weight, bias):\n",
        "    self.weight = weight\n",
        "    self.bias = bias\n",
        "\n",
        "  def sigmoid(self, x):\n",
        "    return 1 / (1 + np.exp(-(x)))\n",
        "\n",
        "  def predict(self, X):\n",
        "    pred_result = []\n",
        "    for xi in X:\n",
        "      rank = 0\n",
        "      val = 0\n",
        "      for j in range(len(self.weight)):\n",
        "        class_score = self.sigmoid(np.matmul(self.weight[j], np.transpose(xi)) + self.bias[j])\n",
        "        if (val < class_score):\n",
        "          val = class_score\n",
        "          rank = j\n",
        "      pred_result.append(rank)\n",
        "        \n",
        "    return np.array(pred_result)\n",
        "\n",
        "  def softmax (self, a):\n",
        "    c = np.max(a)\n",
        "    exp_a = np.exp(a-c)\n",
        "    sum_exp_a = np.sum(exp_a)\n",
        "    y = exp_a / sum_exp_a\n",
        "\n",
        "    return y\n",
        "\n",
        "  def probability (self, X):\n",
        "    prob_result = []\n",
        "    for xi in X:\n",
        "      sig = []\n",
        "      for w, b in zip(self.weight, self.bias):\n",
        "        sig.append(np.matmul(w, np.transpose(xi)) + b)\n",
        "      prob_result.append(self.softmax(np.array(sig)))\n",
        "      \n",
        "    return np.array(prob_result)\n",
        "  \n",
        "\n",
        "  def score (self, X, y):\n",
        "    pred = (self.predict(X) == y)\n",
        "    return np.mean(pred)\n",
        "\n"
      ],
      "execution_count": 300,
      "outputs": []
    },
    {
      "cell_type": "markdown",
      "metadata": {
        "id": "IuSYy99-FOAa"
      },
      "source": [
        "TO DO: Create a SimpleLinearClassfier instance simple_lr using W_lr and b_lr. Then, print the accuracy on the training and test data.<br>\n",
        "(The accuracies should be the same as those of the LogisticRegression instance.)"
      ]
    },
    {
      "cell_type": "code",
      "metadata": {
        "id": "MJFs7pAg6IOY",
        "outputId": "4abeb7b4-14d6-422e-c793-d1c8e009d52f",
        "colab": {
          "base_uri": "https://localhost:8080/",
          "height": 51
        }
      },
      "source": [
        "simple_lr = SimpleLinearClassifier(W_lr, b_lr)\n",
        "print('train score = ', simple_lr.score(X_train, y_train))\n",
        "print('test score = ', simple_lr.score(X_test, y_test))\n"
      ],
      "execution_count": 301,
      "outputs": [
        {
          "output_type": "stream",
          "text": [
            "train score =  0.9624060150375939\n",
            "test score =  1.0\n"
          ],
          "name": "stdout"
        }
      ]
    },
    {
      "cell_type": "markdown",
      "metadata": {
        "id": "bhi2Zmx3FaPx"
      },
      "source": [
        "TO DO: Display the results of simple_lr.predict(X_test) along with y_test."
      ]
    },
    {
      "cell_type": "code",
      "metadata": {
        "id": "2laJOWR1GnmO",
        "outputId": "0344144e-e9fd-4971-da7a-364df99cfd76",
        "colab": {
          "base_uri": "https://localhost:8080/",
          "height": 85
        }
      },
      "source": [
        "print('y_hat = ' , simple_lr.predict(X_test))\n",
        "print('y_test = ', y_test)"
      ],
      "execution_count": 302,
      "outputs": [
        {
          "output_type": "stream",
          "text": [
            "y_hat =  [1 2 0 1 2 0 2 1 0 1 1 1 0 0 1 1 1 1 1 0 1 1 0 1 0 2 0 2 1 2 2 0 1 1 1 0 1\n",
            " 1 1 0 1 1 1 1 1]\n",
            "y_test =  [1 2 0 1 2 0 2 1 0 1 1 1 0 0 1 1 1 1 1 0 1 1 0 1 0 2 0 2 1 2 2 0 1 1 1 0 1\n",
            " 1 1 0 1 1 1 1 1]\n"
          ],
          "name": "stdout"
        }
      ]
    },
    {
      "cell_type": "markdown",
      "metadata": {
        "id": "BfSGdKXfKAwJ"
      },
      "source": [
        "TO DO: Display the result of simple_lr.probability(X_test).\n",
        "Then, check whether the sum of each row makes one."
      ]
    },
    {
      "cell_type": "code",
      "metadata": {
        "id": "cFMpwp9IHSeH",
        "outputId": "f10ccad4-7a27-4ddf-f12d-7019c4cea6ad",
        "colab": {
          "base_uri": "https://localhost:8080/",
          "height": 816
        }
      },
      "source": [
        "prob = simple_lr.probability(X_test)\n",
        "print('prob = ' , prob)\n",
        "print('The sum of rows = ', np.sum(prob, axis=1))"
      ],
      "execution_count": 303,
      "outputs": [
        {
          "output_type": "stream",
          "text": [
            "prob =  [[4.04048410e-04 9.99554828e-01 4.11231731e-05]\n",
            " [3.03037629e-03 4.48925880e-02 9.52077036e-01]\n",
            " [9.99580859e-01 7.77189456e-07 4.18364168e-04]\n",
            " [5.73385384e-02 9.42099868e-01 5.61593100e-04]\n",
            " [2.00053265e-04 3.19792675e-02 9.67820679e-01]\n",
            " [9.41175546e-01 2.90025437e-02 2.98219107e-02]\n",
            " [2.67945807e-04 3.08636362e-05 9.99701191e-01]\n",
            " [1.29855668e-01 8.27519415e-01 4.26249176e-02]\n",
            " [9.95108229e-01 3.09362953e-03 1.79814122e-03]\n",
            " [2.06458086e-03 9.97346712e-01 5.88707217e-04]\n",
            " [1.18956482e-03 9.98462991e-01 3.47444182e-04]\n",
            " [8.96308658e-04 9.98369797e-01 7.33894785e-04]\n",
            " [9.99373755e-01 1.98090022e-05 6.06436351e-04]\n",
            " [9.98389502e-01 1.18989735e-04 1.49150841e-03]\n",
            " [1.57040178e-04 9.99814648e-01 2.83122372e-05]\n",
            " [1.46535742e-01 8.52026921e-01 1.43733713e-03]\n",
            " [2.38843268e-04 9.99617318e-01 1.43838414e-04]\n",
            " [9.72374680e-04 9.98940596e-01 8.70296873e-05]\n",
            " [4.48774354e-04 9.99531714e-01 1.95113567e-05]\n",
            " [7.44643540e-01 2.30744008e-01 2.46124520e-02]\n",
            " [1.84123010e-03 9.97877868e-01 2.80901941e-04]\n",
            " [1.72512285e-02 9.36785928e-01 4.59628435e-02]\n",
            " [9.99757740e-01 9.96222318e-07 2.41263429e-04]\n",
            " [3.17777161e-02 9.62487110e-01 5.73517353e-03]\n",
            " [9.95198018e-01 4.23941202e-04 4.37804129e-03]\n",
            " [1.58018047e-02 4.20182203e-03 9.79996373e-01]\n",
            " [9.92939064e-01 6.22449425e-03 8.36441787e-04]\n",
            " [1.14675066e-04 2.43900942e-05 9.99860935e-01]\n",
            " [3.16793837e-01 6.59908192e-01 2.32979713e-02]\n",
            " [7.52744230e-02 1.17102418e-02 9.13015335e-01]\n",
            " [5.62032316e-03 2.83740189e-02 9.66005658e-01]\n",
            " [9.99764688e-01 7.17059508e-05 1.63605560e-04]\n",
            " [1.84833633e-02 9.80371155e-01 1.14548142e-03]\n",
            " [1.65371679e-01 6.99865488e-01 1.34762833e-01]\n",
            " [4.23284229e-02 9.48821143e-01 8.85043411e-03]\n",
            " [9.99847603e-01 1.24536705e-04 2.78606086e-05]\n",
            " [5.56162183e-03 9.89616288e-01 4.82209000e-03]\n",
            " [4.53346876e-04 9.98191991e-01 1.35466239e-03]\n",
            " [2.60953274e-01 7.19104981e-01 1.99417454e-02]\n",
            " [9.99350772e-01 4.59435251e-04 1.89792307e-04]\n",
            " [7.69769574e-05 9.99915810e-01 7.21340489e-06]\n",
            " [4.96025391e-03 9.94937421e-01 1.02325530e-04]\n",
            " [6.92873012e-02 9.28964933e-01 1.74776596e-03]\n",
            " [2.01625112e-02 9.02694979e-01 7.71425101e-02]\n",
            " [3.69477128e-01 6.27418197e-01 3.10467494e-03]]\n",
            "The sum of rows =  [1. 1. 1. 1. 1. 1. 1. 1. 1. 1. 1. 1. 1. 1. 1. 1. 1. 1. 1. 1. 1. 1. 1. 1.\n",
            " 1. 1. 1. 1. 1. 1. 1. 1. 1. 1. 1. 1. 1. 1. 1. 1. 1. 1. 1. 1. 1.]\n"
          ],
          "name": "stdout"
        }
      ]
    },
    {
      "cell_type": "markdown",
      "metadata": {
        "id": "9FfCL3TlKWoQ"
      },
      "source": [
        "TO DO: Print the accuracy on the training and test data."
      ]
    },
    {
      "cell_type": "code",
      "metadata": {
        "id": "mpI7u0MTHXgN",
        "outputId": "ad1e17a6-ca21-4e66-c6e5-240d2980e57b",
        "colab": {
          "base_uri": "https://localhost:8080/",
          "height": 51
        }
      },
      "source": [
        "simple_lr = SimpleLinearClassifier(W_lr, b_lr)\n",
        "print('tran score = ', simple_lr.score(X_train, y_train))\n",
        "print('test score = ', simple_lr.score(X_test, y_test))"
      ],
      "execution_count": 304,
      "outputs": [
        {
          "output_type": "stream",
          "text": [
            "tran score =  0.9624060150375939\n",
            "test score =  1.0\n"
          ],
          "name": "stdout"
        }
      ]
    },
    {
      "cell_type": "markdown",
      "metadata": {
        "id": "mQTnq0KhGwf5"
      },
      "source": [
        "TO DO: Create a SimpleLinearClassfier instance simple_svc using W_svc and b_svc. Then, print the accuracy on the training and test data.<br>\n",
        "(The accuracies should be the same as those of the LinearSVC instance.)"
      ]
    },
    {
      "cell_type": "code",
      "metadata": {
        "id": "dyhGFRmS-6gc",
        "outputId": "0c80a852-b85a-4f1e-adc6-fb6a3aaec1b2",
        "colab": {
          "base_uri": "https://localhost:8080/",
          "height": 51
        }
      },
      "source": [
        "simple_svc = SimpleLinearClassifier(W_svc, b_svc)\n",
        "print('train score = ', simple_svc.score(X_train, y_train))\n",
        "print('test score = ', simple_svc.score(X_test, y_test))"
      ],
      "execution_count": 305,
      "outputs": [
        {
          "output_type": "stream",
          "text": [
            "train score =  0.8571428571428571\n",
            "test score =  0.9555555555555556\n"
          ],
          "name": "stdout"
        }
      ]
    },
    {
      "cell_type": "markdown",
      "metadata": {
        "id": "TiX8oew5KlbY"
      },
      "source": [
        "TO DO: Display the results of simple_svc.predict(X_test) along with y_test."
      ]
    },
    {
      "cell_type": "code",
      "metadata": {
        "id": "j2PSAoU4yTEZ",
        "outputId": "278043b7-ff03-457f-93d7-96a4d5f04c55",
        "colab": {
          "base_uri": "https://localhost:8080/",
          "height": 85
        }
      },
      "source": [
        "print('y_hat = ' , simple_svc.predict(X_test))\n",
        "print('y_test = ', y_test)"
      ],
      "execution_count": 306,
      "outputs": [
        {
          "output_type": "stream",
          "text": [
            "y_hat =  [1 2 0 1 2 2 2 1 0 1 1 1 0 0 1 1 1 1 1 1 1 1 0 1 0 2 0 2 1 2 2 0 1 1 1 0 1\n",
            " 1 1 0 1 1 1 1 1]\n",
            "y_test =  [1 2 0 1 2 0 2 1 0 1 1 1 0 0 1 1 1 1 1 0 1 1 0 1 0 2 0 2 1 2 2 0 1 1 1 0 1\n",
            " 1 1 0 1 1 1 1 1]\n"
          ],
          "name": "stdout"
        }
      ]
    },
    {
      "cell_type": "markdown",
      "metadata": {
        "id": "VykOf3HbLAYZ"
      },
      "source": [
        "TO DO: Display the result of simple_svc.probability(X_test).\n",
        "Then, check whether the sum of each row makes one."
      ]
    },
    {
      "cell_type": "code",
      "metadata": {
        "id": "Ad_Z4IP7FV6p",
        "outputId": "58cb6f6f-ca6c-41d5-a87f-af43eb382155",
        "colab": {
          "base_uri": "https://localhost:8080/",
          "height": 816
        }
      },
      "source": [
        "prob = simple_svc.probability(X_test)\n",
        "print('prob = ' , prob)\n",
        "print('The sum of rows = ', np.sum(prob, axis=1))"
      ],
      "execution_count": 307,
      "outputs": [
        {
          "output_type": "stream",
          "text": [
            "prob =  [[0.04085706 0.79214136 0.16700158]\n",
            " [0.05554563 0.30474118 0.63971319]\n",
            " [0.71052024 0.01407781 0.27540195]\n",
            " [0.17292401 0.53178421 0.29529177]\n",
            " [0.02433396 0.41362108 0.56204495]\n",
            " [0.31451792 0.3182805  0.36720158]\n",
            " [0.04059508 0.09975861 0.85964631]\n",
            " [0.24143685 0.40421567 0.35434748]\n",
            " [0.47924789 0.13710108 0.38365103]\n",
            " [0.05311144 0.77066018 0.17622838]\n",
            " [0.06132362 0.72526319 0.21341319]\n",
            " [0.04905448 0.66798226 0.28296326]\n",
            " [0.65331307 0.03838058 0.30830635]\n",
            " [0.64941971 0.05764604 0.29293424]\n",
            " [0.03812107 0.83293746 0.12894146]\n",
            " [0.14987091 0.58563672 0.26449237]\n",
            " [0.01891428 0.84159343 0.13949229]\n",
            " [0.07403298 0.76329483 0.16267219]\n",
            " [0.04084755 0.83773444 0.12141801]\n",
            " [0.26903899 0.38302767 0.34793334]\n",
            " [0.05977401 0.69886153 0.24136446]\n",
            " [0.09261519 0.62488    0.28250481]\n",
            " [0.76344077 0.01540574 0.22115349]\n",
            " [0.10952635 0.51309072 0.37738293]\n",
            " [0.48347429 0.08012143 0.43640429]\n",
            " [0.13153804 0.20603281 0.66242915]\n",
            " [0.54458162 0.12958955 0.32582882]\n",
            " [0.02844163 0.09570847 0.87584989]\n",
            " [0.2017847  0.41776136 0.38045394]\n",
            " [0.13983472 0.19053685 0.66962843]\n",
            " [0.07553711 0.31888379 0.6055791 ]\n",
            " [0.67241653 0.04466978 0.28291369]\n",
            " [0.11520621 0.58634803 0.29844576]\n",
            " [0.12642767 0.4753337  0.39823863]\n",
            " [0.16511902 0.47110847 0.3637725 ]\n",
            " [0.75127755 0.04841155 0.2003109 ]\n",
            " [0.09039696 0.59340182 0.31620123]\n",
            " [0.04426833 0.76828102 0.18745064]\n",
            " [0.26672185 0.52910824 0.20416991]\n",
            " [0.62262337 0.09257089 0.28480575]\n",
            " [0.03372363 0.85626818 0.11000818]\n",
            " [0.10417678 0.70340401 0.1924192 ]\n",
            " [0.11001485 0.66682654 0.22315861]\n",
            " [0.10028566 0.55557593 0.34413841]\n",
            " [0.23375482 0.4081971  0.35804808]]\n",
            "The sum of rows =  [1. 1. 1. 1. 1. 1. 1. 1. 1. 1. 1. 1. 1. 1. 1. 1. 1. 1. 1. 1. 1. 1. 1. 1.\n",
            " 1. 1. 1. 1. 1. 1. 1. 1. 1. 1. 1. 1. 1. 1. 1. 1. 1. 1. 1. 1. 1.]\n"
          ],
          "name": "stdout"
        }
      ]
    },
    {
      "cell_type": "markdown",
      "metadata": {
        "id": "8tkrI3OVKcvI"
      },
      "source": [
        "TO DO: Print the accuracy on the training and test data."
      ]
    },
    {
      "cell_type": "code",
      "metadata": {
        "id": "7cZqFbAHyfqH",
        "outputId": "061103d3-55c0-4e72-bc08-9b78f6c3e78a",
        "colab": {
          "base_uri": "https://localhost:8080/",
          "height": 51
        }
      },
      "source": [
        "print('train score = ', simple_svc.score(X_train, y_train))\n",
        "print('test score = ', simple_svc.score(X_test, y_test))"
      ],
      "execution_count": 308,
      "outputs": [
        {
          "output_type": "stream",
          "text": [
            "train score =  0.8571428571428571\n",
            "test score =  0.9555555555555556\n"
          ],
          "name": "stdout"
        }
      ]
    },
    {
      "cell_type": "code",
      "metadata": {
        "id": "1PiZ-DBQ7lkp"
      },
      "source": [
        ""
      ],
      "execution_count": null,
      "outputs": []
    }
  ]
}