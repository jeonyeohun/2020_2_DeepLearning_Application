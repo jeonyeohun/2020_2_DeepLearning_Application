{
  "nbformat": 4,
  "nbformat_minor": 0,
  "metadata": {
    "colab": {
      "name": "HW_1_numpy_practice.ipynb",
      "provenance": [],
      "collapsed_sections": [],
      "toc_visible": true,
      "include_colab_link": true
    },
    "kernelspec": {
      "name": "python3",
      "display_name": "Python 3"
    }
  },
  "cells": [
    {
      "cell_type": "markdown",
      "metadata": {
        "id": "view-in-github",
        "colab_type": "text"
      },
      "source": [
        "<a href=\"https://colab.research.google.com/github/jeonyeohun/2020_2_DeepLearning_Application/blob/master/HW_1_numpy_practice.ipynb\" target=\"_parent\"><img src=\"https://colab.research.google.com/assets/colab-badge.svg\" alt=\"Open In Colab\"/></a>"
      ]
    },
    {
      "cell_type": "markdown",
      "metadata": {
        "id": "ih7yHYxosy_Z",
        "colab_type": "text"
      },
      "source": [
        "# numpy practice"
      ]
    },
    {
      "cell_type": "code",
      "metadata": {
        "id": "W1qShp-NfP2q",
        "colab_type": "code",
        "colab": {}
      },
      "source": [
        "import numpy as np\n",
        "np.set_printoptions(suppress = True)     # disable displaying in scientific form (e.g., 1.32847E2)"
      ],
      "execution_count": 8,
      "outputs": []
    },
    {
      "cell_type": "markdown",
      "metadata": {
        "id": "Jr7utE1YoZ_K",
        "colab_type": "text"
      },
      "source": [
        "TO DO:\n",
        "Initialize random seed by current time.\n",
        "(use np.random.seed().)"
      ]
    },
    {
      "cell_type": "code",
      "metadata": {
        "id": "SRkvfWgXhsrm",
        "colab_type": "code",
        "colab": {}
      },
      "source": [
        "import time\n",
        "np.random.seed(int(time.time()))  "
      ],
      "execution_count": 11,
      "outputs": []
    },
    {
      "cell_type": "code",
      "metadata": {
        "id": "snoEVL9nXBhL",
        "colab_type": "code",
        "colab": {}
      },
      "source": [
        "# constants\n",
        "lower = 0\n",
        "upper = 100\n",
        "range = upper - lower\n",
        "bins = 10             # of bins in histogram"
      ],
      "execution_count": 12,
      "outputs": []
    },
    {
      "cell_type": "markdown",
      "metadata": {
        "id": "ijIOPSYioyxc",
        "colab_type": "text"
      },
      "source": [
        "TO DO: Create an array A_data with 100 uniform random numbers in  [lower, upper) using np.random.random().\n",
        "\n",
        "Then, print A_data."
      ]
    },
    {
      "cell_type": "code",
      "metadata": {
        "id": "eCgTaN_RfRvq",
        "colab_type": "code",
        "colab": {
          "base_uri": "https://localhost:8080/",
          "height": 306
        },
        "outputId": "e3aae625-c0b1-4cc8-d719-e6197f333bbe"
      },
      "source": [
        "A_data = np.random.uniform(lower, upper, range)\n",
        "print(A_data)"
      ],
      "execution_count": 13,
      "outputs": [
        {
          "output_type": "stream",
          "text": [
            "[80.68172814 67.33549162 48.79319329 68.54642273 49.48434846 94.41033027\n",
            " 95.71887692 84.38368663 63.17754479 81.31982469 48.05492007 31.8286802\n",
            " 13.372524    4.02552677 89.21082066 66.87081014 37.49667343 59.3466105\n",
            " 73.20804173 93.41407182 23.96958979 85.11009747 84.81895597 89.09036563\n",
            " 90.65364032 96.43942519 24.88741593 87.71791881 44.58115189 21.15745028\n",
            " 38.11415883 95.24375536 11.26708157 25.28107328  4.77526621 23.79071554\n",
            " 97.31176865  4.92132343 75.70279237 84.43961707 27.89260458 36.23950295\n",
            "  7.65420658 29.84012599 72.04327468 40.77568035  0.0460259   4.61799253\n",
            " 13.4565313  65.44095409  9.56200752 95.37969554 78.32842529 71.09945001\n",
            " 15.42911042 66.4847142  37.20207333  2.18846421 21.99109828 19.90039684\n",
            " 58.47342014 38.5142679  92.72234428 83.92785341 88.21473304 54.79399742\n",
            " 41.72396327 47.20588886 25.65544186 24.42099276 31.22965332 45.5896103\n",
            " 93.86235168 20.64994106 18.33002855 24.93150223 61.55955717 38.9988177\n",
            " 84.81474156 28.38335205 36.76589625 47.18606297 52.75407999 45.53802474\n",
            " 92.04869133 72.00239819 59.53807206 29.07595765 39.82374867 36.58057041\n",
            " 69.15318115 21.92266455 28.06494109 38.5631682  92.86389716 12.05308474\n",
            " 92.05087335 77.86892312 80.52748692 27.59676195]\n"
          ],
          "name": "stdout"
        }
      ]
    },
    {
      "cell_type": "code",
      "metadata": {
        "id": "M12zDESfq6ND",
        "colab_type": "code",
        "colab": {}
      },
      "source": [
        ""
      ],
      "execution_count": 13,
      "outputs": []
    },
    {
      "cell_type": "markdown",
      "metadata": {
        "id": "KcCOzeabpbTb",
        "colab_type": "text"
      },
      "source": [
        "TO DO: Print the mean and standard deviation of A_data."
      ]
    },
    {
      "cell_type": "code",
      "metadata": {
        "id": "Y4eVtr37ST-I",
        "colab_type": "code",
        "colab": {
          "base_uri": "https://localhost:8080/",
          "height": 51
        },
        "outputId": "ad5c1452-5e7b-4215-8835-e79e78cfd532"
      },
      "source": [
        "print(\"mean of A = \", np.mean(A_data))\n",
        "print(\"stdev of A = \", np.std(A_data))"
      ],
      "execution_count": 14,
      "outputs": [
        {
          "output_type": "stream",
          "text": [
            "mean of A =  51.3150696810874\n",
            "stdev of A =  29.28313342594004\n"
          ],
          "name": "stdout"
        }
      ]
    },
    {
      "cell_type": "markdown",
      "metadata": {
        "id": "IElTu4xTpkg7",
        "colab_type": "text"
      },
      "source": [
        "TO DO: Create an array A_label filled with zeros. The length of the array should be the same as A_data.\n",
        "\n",
        "Then, print A_label."
      ]
    },
    {
      "cell_type": "code",
      "metadata": {
        "id": "Lh36wMDESoCe",
        "colab_type": "code",
        "colab": {
          "base_uri": "https://localhost:8080/",
          "height": 102
        },
        "outputId": "61ea578a-7cbe-48c0-b91f-065445c19b61"
      },
      "source": [
        "A_label = np.zeros(len(A_data))\n",
        "print(A_label)"
      ],
      "execution_count": 15,
      "outputs": [
        {
          "output_type": "stream",
          "text": [
            "[0. 0. 0. 0. 0. 0. 0. 0. 0. 0. 0. 0. 0. 0. 0. 0. 0. 0. 0. 0. 0. 0. 0. 0.\n",
            " 0. 0. 0. 0. 0. 0. 0. 0. 0. 0. 0. 0. 0. 0. 0. 0. 0. 0. 0. 0. 0. 0. 0. 0.\n",
            " 0. 0. 0. 0. 0. 0. 0. 0. 0. 0. 0. 0. 0. 0. 0. 0. 0. 0. 0. 0. 0. 0. 0. 0.\n",
            " 0. 0. 0. 0. 0. 0. 0. 0. 0. 0. 0. 0. 0. 0. 0. 0. 0. 0. 0. 0. 0. 0. 0. 0.\n",
            " 0. 0. 0. 0.]\n"
          ],
          "name": "stdout"
        }
      ]
    },
    {
      "cell_type": "markdown",
      "metadata": {
        "id": "00LC6Dr5p9qD",
        "colab_type": "text"
      },
      "source": [
        "TO DO: Creat a 100x2 array A by concatenating A_data and A_label along horizontal axis.\n",
        "\n",
        "Then, print the first 10 rows of A."
      ]
    },
    {
      "cell_type": "code",
      "metadata": {
        "id": "_16Uhqd8TNGl",
        "colab_type": "code",
        "colab": {
          "base_uri": "https://localhost:8080/",
          "height": 187
        },
        "outputId": "385cc558-027c-4006-eb83-5c1bfbdade7c"
      },
      "source": [
        "A = np.append(np.expand_dims(A_data, axis=1), np.expand_dims(A_label, axis=1), axis=1)\n",
        "print(A[:10])"
      ],
      "execution_count": 16,
      "outputs": [
        {
          "output_type": "stream",
          "text": [
            "[[80.68172814  0.        ]\n",
            " [67.33549162  0.        ]\n",
            " [48.79319329  0.        ]\n",
            " [68.54642273  0.        ]\n",
            " [49.48434846  0.        ]\n",
            " [94.41033027  0.        ]\n",
            " [95.71887692  0.        ]\n",
            " [84.38368663  0.        ]\n",
            " [63.17754479  0.        ]\n",
            " [81.31982469  0.        ]]\n"
          ],
          "name": "stdout"
        }
      ]
    },
    {
      "cell_type": "markdown",
      "metadata": {
        "id": "CGKgpolfrR7c",
        "colab_type": "text"
      },
      "source": [
        "TO DO: Create an array B_data with 100 Gaussian random numbers $N(35, 10^2)$ using np.random.normal().\n",
        "\n",
        "Then, print B_data."
      ]
    },
    {
      "cell_type": "code",
      "metadata": {
        "id": "o3pa82FofV58",
        "colab_type": "code",
        "colab": {
          "base_uri": "https://localhost:8080/",
          "height": 306
        },
        "outputId": "4b217d71-b18f-42a1-df7c-e5b3119f8b29"
      },
      "source": [
        "B_data = np.random.normal(35, 10, 100)\n",
        "print(B_data)"
      ],
      "execution_count": 17,
      "outputs": [
        {
          "output_type": "stream",
          "text": [
            "[34.01580148 19.1814612  41.65633345 40.65042008 51.7348866  36.45126044\n",
            " 37.6395136  52.12148124 52.62931515 29.12282511 45.35627083 29.47481631\n",
            " 38.28247749 24.82896662 27.58836445 35.08091918 31.38634312 33.9988106\n",
            " 22.06086873 37.05939764 26.7652181  37.50330935 28.31125532 61.70325693\n",
            " 35.92947771 26.33971285 41.12086015 30.62562159 53.67083121 27.30579626\n",
            " 36.02771805 42.79989447 19.29594252 45.30729498 27.6361306  44.07046419\n",
            " 33.25220622 36.08878268 38.59024623 36.18881425 44.86143351  4.66740326\n",
            " 54.92743268 27.50574342 27.76680791 42.77521585 38.78256872 23.31586023\n",
            " 39.85566916 22.25074978 35.51550945 25.76018885 44.96556334 41.84989535\n",
            " 16.356734   45.39720543 37.43010264 37.32215137 44.97463949 39.90110813\n",
            " 35.44310664 31.61159205 38.97964076 46.16106882 32.80158664 33.29544026\n",
            " 35.45792974 41.47381943 33.16775102 47.14489058 24.55975494 19.11962751\n",
            " 38.0283544  36.98459571 36.89535773 21.42407239 39.53854772 36.20505286\n",
            " 16.73370328 23.79935599 42.19615098 38.34564401 35.61668987 28.32004239\n",
            " 33.88214912 36.71641935 52.80918657 33.9321953  36.45824172 25.44463097\n",
            " 41.44092519 45.73570308 22.95718708 33.45428609 50.72866554 32.34692799\n",
            " 37.10448428 32.2561335  25.55307441 36.87098852]\n"
          ],
          "name": "stdout"
        }
      ]
    },
    {
      "cell_type": "markdown",
      "metadata": {
        "id": "_Ru5YxOwugfw",
        "colab_type": "text"
      },
      "source": [
        "TO DO: Print the mean and standard deviation of B_data."
      ]
    },
    {
      "cell_type": "code",
      "metadata": {
        "id": "nXLdu1_TSxvc",
        "colab_type": "code",
        "colab": {
          "base_uri": "https://localhost:8080/",
          "height": 51
        },
        "outputId": "9f099317-f7ce-45f0-d052-747ee9cde01b"
      },
      "source": [
        "print(\"mean of A = \", np.mean(B_data))\n",
        "print(\"stdev of A = \", np.std(B_data))"
      ],
      "execution_count": 18,
      "outputs": [
        {
          "output_type": "stream",
          "text": [
            "mean of A =  35.360303239771994\n",
            "stdev of A =  9.488248200592947\n"
          ],
          "name": "stdout"
        }
      ]
    },
    {
      "cell_type": "markdown",
      "metadata": {
        "id": "E2R8jP0VukUv",
        "colab_type": "text"
      },
      "source": [
        "TO DO: Create an array B_label filled with ones. The length of the array should be the same as B_data.\n",
        "\n",
        "Then, print B_label."
      ]
    },
    {
      "cell_type": "code",
      "metadata": {
        "id": "OgsvTKwlSvUF",
        "colab_type": "code",
        "colab": {
          "base_uri": "https://localhost:8080/",
          "height": 102
        },
        "outputId": "69a6d693-cd8f-4bbf-dc2d-242137c9e957"
      },
      "source": [
        "B_label = np.ones(len(B_data))\n",
        "print(B_label)"
      ],
      "execution_count": 19,
      "outputs": [
        {
          "output_type": "stream",
          "text": [
            "[1. 1. 1. 1. 1. 1. 1. 1. 1. 1. 1. 1. 1. 1. 1. 1. 1. 1. 1. 1. 1. 1. 1. 1.\n",
            " 1. 1. 1. 1. 1. 1. 1. 1. 1. 1. 1. 1. 1. 1. 1. 1. 1. 1. 1. 1. 1. 1. 1. 1.\n",
            " 1. 1. 1. 1. 1. 1. 1. 1. 1. 1. 1. 1. 1. 1. 1. 1. 1. 1. 1. 1. 1. 1. 1. 1.\n",
            " 1. 1. 1. 1. 1. 1. 1. 1. 1. 1. 1. 1. 1. 1. 1. 1. 1. 1. 1. 1. 1. 1. 1. 1.\n",
            " 1. 1. 1. 1.]\n"
          ],
          "name": "stdout"
        }
      ]
    },
    {
      "cell_type": "markdown",
      "metadata": {
        "id": "ujWuWumLup7n",
        "colab_type": "text"
      },
      "source": [
        "TO DO: Creat a 100x2 array B by concatenating B_data and B_label along horizontal axis.\n",
        "\n",
        "Then, print the first 10 rows of B."
      ]
    },
    {
      "cell_type": "code",
      "metadata": {
        "id": "qfFQePcif4O5",
        "colab_type": "code",
        "colab": {
          "base_uri": "https://localhost:8080/",
          "height": 187
        },
        "outputId": "0f0b8774-c29e-448b-a33f-b3823bf75657"
      },
      "source": [
        "B = np.append(np.expand_dims(B_data, axis=1), np.expand_dims(B_label, axis=1), axis=1)\n",
        "print(B[:10])"
      ],
      "execution_count": 20,
      "outputs": [
        {
          "output_type": "stream",
          "text": [
            "[[34.01580148  1.        ]\n",
            " [19.1814612   1.        ]\n",
            " [41.65633345  1.        ]\n",
            " [40.65042008  1.        ]\n",
            " [51.7348866   1.        ]\n",
            " [36.45126044  1.        ]\n",
            " [37.6395136   1.        ]\n",
            " [52.12148124  1.        ]\n",
            " [52.62931515  1.        ]\n",
            " [29.12282511  1.        ]]\n"
          ],
          "name": "stdout"
        }
      ]
    },
    {
      "cell_type": "markdown",
      "metadata": {
        "id": "mhWAsTTJutAp",
        "colab_type": "text"
      },
      "source": [
        "TO DO: Print the histograms of A_data and B_data using np.hisogram(). The histograms have 10 bins and its range is from lower to upper.\n",
        "\n",
        "Then, display the two histograms"
      ]
    },
    {
      "cell_type": "code",
      "metadata": {
        "id": "fucquM2HgXHl",
        "colab_type": "code",
        "colab": {
          "base_uri": "https://localhost:8080/",
          "height": 71
        },
        "outputId": "4c0b8afa-319f-4fb6-e668-df2ecb82ca71"
      },
      "source": [
        "print(np.histogram(A, 10, (lower, upper)))\n",
        "print(np.histogram(B, 10, (lower, upper)))"
      ],
      "execution_count": 21,
      "outputs": [
        {
          "output_type": "stream",
          "text": [
            "(array([108,   7,  17,  12,  10,   5,   8,   7,  13,  13]), array([  0.,  10.,  20.,  30.,  40.,  50.,  60.,  70.,  80.,  90., 100.]))\n",
            "(array([101,   5,  22,  45,  19,   7,   1,   0,   0,   0]), array([  0.,  10.,  20.,  30.,  40.,  50.,  60.,  70.,  80.,  90., 100.]))\n"
          ],
          "name": "stdout"
        }
      ]
    },
    {
      "cell_type": "markdown",
      "metadata": {
        "id": "YmQzkVPjwlom",
        "colab_type": "text"
      },
      "source": [
        "TO DO: Create a 200x2 array D by concatenating A and B.\n",
        "\n",
        "Shuffle the rows of D using np.rand.shuffle().\n",
        "\n",
        "Then, display the first 20 rows of D.\n"
      ]
    },
    {
      "cell_type": "code",
      "metadata": {
        "id": "G5q66edGj6AA",
        "colab_type": "code",
        "colab": {
          "base_uri": "https://localhost:8080/",
          "height": 357
        },
        "outputId": "c0157329-d784-4669-a446-a6b89b89d335"
      },
      "source": [
        "D = np.concatenate((A, B), axis=0)\n",
        "np.random.shuffle(D)\n",
        "print(D[:20])"
      ],
      "execution_count": 22,
      "outputs": [
        {
          "output_type": "stream",
          "text": [
            "[[93.41407182  0.        ]\n",
            " [22.25074978  1.        ]\n",
            " [33.16775102  1.        ]\n",
            " [84.81474156  0.        ]\n",
            " [47.18606297  0.        ]\n",
            " [31.38634312  1.        ]\n",
            " [29.07595765  0.        ]\n",
            " [33.45428609  1.        ]\n",
            " [36.18881425  1.        ]\n",
            " [36.98459571  1.        ]\n",
            " [24.42099276  0.        ]\n",
            " [92.86389716  0.        ]\n",
            " [23.31586023  1.        ]\n",
            " [20.64994106  0.        ]\n",
            " [84.43961707  0.        ]\n",
            " [53.67083121  1.        ]\n",
            " [81.31982469  0.        ]\n",
            " [36.02771805  1.        ]\n",
            " [46.16106882  1.        ]\n",
            " [32.2561335   1.        ]]\n"
          ],
          "name": "stdout"
        }
      ]
    },
    {
      "cell_type": "markdown",
      "metadata": {
        "id": "3k8h_4s8s51Y",
        "colab_type": "text"
      },
      "source": [
        "# matplotlib practice"
      ]
    },
    {
      "cell_type": "code",
      "metadata": {
        "id": "WiNLBgc_WGlg",
        "colab_type": "code",
        "colab": {}
      },
      "source": [
        "import matplotlib.pyplot as plt"
      ],
      "execution_count": 23,
      "outputs": []
    },
    {
      "cell_type": "markdown",
      "metadata": {
        "id": "aB1ajjRLx5vx",
        "colab_type": "text"
      },
      "source": [
        "TO DO: draw the histograms of A_data and B_data as the following example. Use plt.subplot() and plt.hist().\n",
        "\n",
        "The histograms have 10 bins and their ranges are [0, 100)."
      ]
    },
    {
      "cell_type": "code",
      "metadata": {
        "id": "fqxnTeUCXsdQ",
        "colab_type": "code",
        "colab": {
          "base_uri": "https://localhost:8080/",
          "height": 316
        },
        "outputId": "678058ca-c6ce-4863-edef-c66dfb95784f"
      },
      "source": [
        "plt.subplot(2, 1, 1)\n",
        "plt.hist(A_data, 10, (0, 100))\n",
        "\n",
        "plt.subplot(2, 1, 2)\n",
        "plt.hist(B_data, 10, (0, 100))"
      ],
      "execution_count": 24,
      "outputs": [
        {
          "output_type": "execute_result",
          "data": {
            "text/plain": [
              "(array([ 1.,  5., 22., 45., 19.,  7.,  1.,  0.,  0.,  0.]),\n",
              " array([  0.,  10.,  20.,  30.,  40.,  50.,  60.,  70.,  80.,  90., 100.]),\n",
              " <a list of 10 Patch objects>)"
            ]
          },
          "metadata": {
            "tags": []
          },
          "execution_count": 24
        },
        {
          "output_type": "display_data",
          "data": {
            "image/png": "[encoded data removed]",
            "text/plain": [
              "<Figure size 432x288 with 2 Axes>"
            ]
          },
          "metadata": {
            "tags": [],
            "needs_background": "light"
          }
        }
      ]
    },
    {
      "cell_type": "markdown",
      "metadata": {
        "id": "oBVpO8ABy9k2",
        "colab_type": "text"
      },
      "source": [
        "TO DO: draw the histogram of the first column of D. Use [] and : operators to retrieve the first column of D."
      ]
    },
    {
      "cell_type": "code",
      "metadata": {
        "id": "dxt1vJO-mwmZ",
        "colab_type": "code",
        "colab": {
          "base_uri": "https://localhost:8080/",
          "height": 198
        },
        "outputId": "3f7c02fa-0e22-4f66-e66a-b49fc99cbe2a"
      },
      "source": [
        "plt.subplot(2, 1, 2)\n",
        "plt.hist(D[:, 0], 10, (0, 100))"
      ],
      "execution_count": 25,
      "outputs": [
        {
          "output_type": "execute_result",
          "data": {
            "text/plain": [
              "(array([ 9., 12., 39., 57., 29., 12.,  9.,  7., 13., 13.]),\n",
              " array([  0.,  10.,  20.,  30.,  40.,  50.,  60.,  70.,  80.,  90., 100.]),\n",
              " <a list of 10 Patch objects>)"
            ]
          },
          "metadata": {
            "tags": []
          },
          "execution_count": 25
        },
        {
          "output_type": "display_data",
          "data": {
            "image/png": "[encoded data removed]",
            "text/plain": [
              "<Figure size 432x288 with 1 Axes>"
            ]
          },
          "metadata": {
            "tags": [],
            "needs_background": "light"
          }
        }
      ]
    },
    {
      "cell_type": "markdown",
      "metadata": {
        "id": "wdGGKkq-s_iQ",
        "colab_type": "text"
      },
      "source": [
        "# pandas practice"
      ]
    },
    {
      "cell_type": "code",
      "metadata": {
        "id": "-7N4o7U3tDC5",
        "colab_type": "code",
        "colab": {}
      },
      "source": [
        "import pandas as pd"
      ],
      "execution_count": 26,
      "outputs": []
    },
    {
      "cell_type": "markdown",
      "metadata": {
        "id": "cuxz3JcN1CHF",
        "colab_type": "text"
      },
      "source": [
        "TO DO: create a DataFrame df from numpy array D. Set the column names by ['X', 'Y']"
      ]
    },
    {
      "cell_type": "code",
      "metadata": {
        "id": "zyCMfzbPtFVN",
        "colab_type": "code",
        "colab": {}
      },
      "source": [
        "df = pd.DataFrame(D, columns=['X', 'Y'])"
      ],
      "execution_count": 27,
      "outputs": []
    },
    {
      "cell_type": "markdown",
      "metadata": {
        "id": "pWOytaKK1QuE",
        "colab_type": "text"
      },
      "source": [
        "TO DO: display count, mean, std, and the five-number summary using describe()."
      ]
    },
    {
      "cell_type": "code",
      "metadata": {
        "id": "talpQMmvtOHd",
        "colab_type": "code",
        "colab": {
          "base_uri": "https://localhost:8080/",
          "height": 297
        },
        "outputId": "510e7f5a-0802-487d-8fbb-ccca2c618617"
      },
      "source": [
        "df.describe()"
      ],
      "execution_count": 28,
      "outputs": [
        {
          "output_type": "execute_result",
          "data": {
            "text/html": [
              "<div>\n",
              "<style scoped>\n",
              "    .dataframe tbody tr th:only-of-type {\n",
              "        vertical-align: middle;\n",
              "    }\n",
              "\n",
              "    .dataframe tbody tr th {\n",
              "        vertical-align: top;\n",
              "    }\n",
              "\n",
              "    .dataframe thead th {\n",
              "        text-align: right;\n",
              "    }\n",
              "</style>\n",
              "<table border=\"1\" class=\"dataframe\">\n",
              "  <thead>\n",
              "    <tr style=\"text-align: right;\">\n",
              "      <th></th>\n",
              "      <th>X</th>\n",
              "      <th>Y</th>\n",
              "    </tr>\n",
              "  </thead>\n",
              "  <tbody>\n",
              "    <tr>\n",
              "      <th>count</th>\n",
              "      <td>200.000000</td>\n",
              "      <td>200.000000</td>\n",
              "    </tr>\n",
              "    <tr>\n",
              "      <th>mean</th>\n",
              "      <td>43.337686</td>\n",
              "      <td>0.500000</td>\n",
              "    </tr>\n",
              "    <tr>\n",
              "      <th>std</th>\n",
              "      <td>23.240128</td>\n",
              "      <td>0.501255</td>\n",
              "    </tr>\n",
              "    <tr>\n",
              "      <th>min</th>\n",
              "      <td>0.046026</td>\n",
              "      <td>0.000000</td>\n",
              "    </tr>\n",
              "    <tr>\n",
              "      <th>25%</th>\n",
              "      <td>27.734139</td>\n",
              "      <td>0.000000</td>\n",
              "    </tr>\n",
              "    <tr>\n",
              "      <th>50%</th>\n",
              "      <td>37.463388</td>\n",
              "      <td>0.500000</td>\n",
              "    </tr>\n",
              "    <tr>\n",
              "      <th>75%</th>\n",
              "      <td>52.660506</td>\n",
              "      <td>1.000000</td>\n",
              "    </tr>\n",
              "    <tr>\n",
              "      <th>max</th>\n",
              "      <td>97.311769</td>\n",
              "      <td>1.000000</td>\n",
              "    </tr>\n",
              "  </tbody>\n",
              "</table>\n",
              "</div>"
            ],
            "text/plain": [
              "                X           Y\n",
              "count  200.000000  200.000000\n",
              "mean    43.337686    0.500000\n",
              "std     23.240128    0.501255\n",
              "min      0.046026    0.000000\n",
              "25%     27.734139    0.000000\n",
              "50%     37.463388    0.500000\n",
              "75%     52.660506    1.000000\n",
              "max     97.311769    1.000000"
            ]
          },
          "metadata": {
            "tags": []
          },
          "execution_count": 28
        }
      ]
    },
    {
      "cell_type": "markdown",
      "metadata": {
        "id": "QKZQDF1T10v1",
        "colab_type": "text"
      },
      "source": [
        "TO DO: draw the histogram of df using hist().\n",
        "\n"
      ]
    },
    {
      "cell_type": "code",
      "metadata": {
        "id": "bS4o_1DbtRtD",
        "colab_type": "code",
        "colab": {
          "base_uri": "https://localhost:8080/",
          "height": 281
        },
        "outputId": "7a21aa71-95fb-4cdc-f039-dbfaa91a6cab"
      },
      "source": [
        "plt.subplot(1, 3, 1, title=\"X\")\n",
        "plt.hist(df.loc[:, 'X'])\n",
        "plt.grid()\n",
        "\n",
        "plt.subplot(1, 3, 2, title=\"Y\")\n",
        "plt.hist(df.loc[:, 'Y'])\n",
        "plt.grid()"
      ],
      "execution_count": 34,
      "outputs": [
        {
          "output_type": "display_data",
          "data": {
            "image/png": "[encoded data removed]",
            "text/plain": [
              "<Figure size 432x288 with 2 Axes>"
            ]
          },
          "metadata": {
            "tags": [],
            "needs_background": "light"
          }
        }
      ]
    },
    {
      "cell_type": "markdown",
      "metadata": {
        "id": "wFTNVi6n1-Pz",
        "colab_type": "text"
      },
      "source": [
        "TO DO: draw the scatter matrix of df using pd.plotting.scatter_matrix()."
      ]
    },
    {
      "cell_type": "code",
      "metadata": {
        "id": "ep6oKZSSzx-J",
        "colab_type": "code",
        "colab": {
          "base_uri": "https://localhost:8080/",
          "height": 372
        },
        "outputId": "36b74831-4b58-48b4-a9ae-32310001635d"
      },
      "source": [
        "pd.plotting.scatter_matrix(df)"
      ],
      "execution_count": 36,
      "outputs": [
        {
          "output_type": "execute_result",
          "data": {
            "text/plain": [
              "array([[<matplotlib.axes._subplots.AxesSubplot object at 0x7f64bd57ffd0>,\n",
              "        <matplotlib.axes._subplots.AxesSubplot object at 0x7f64bd574160>],\n",
              "       [<matplotlib.axes._subplots.AxesSubplot object at 0x7f64bd6bec18>,\n",
              "        <matplotlib.axes._subplots.AxesSubplot object at 0x7f64bb5177b8>]],\n",
              "      dtype=object)"
            ]
          },
          "metadata": {
            "tags": []
          },
          "execution_count": 36
        },
        {
          "output_type": "display_data",
          "data": {
            "image/png": "[encoded data removed]",
            "text/plain": [
              "<Figure size 432x288 with 4 Axes>"
            ]
          },
          "metadata": {
            "tags": [],
            "needs_background": "light"
          }
        }
      ]
    },
    {
      "cell_type": "markdown",
      "metadata": {
        "id": "wPaczh1I2MA8",
        "colab_type": "text"
      },
      "source": [
        "TO DO: save df into a text file './D.csv'."
      ]
    },
    {
      "cell_type": "code",
      "metadata": {
        "id": "AbrweN1Xz3U_",
        "colab_type": "code",
        "colab": {}
      },
      "source": [
        "df.to_csv(\"./D.csv\")"
      ],
      "execution_count": 40,
      "outputs": []
    },
    {
      "cell_type": "markdown",
      "metadata": {
        "id": "-BfJufls2SkM",
        "colab_type": "text"
      },
      "source": [
        "TO DO: display the file list of the current directory to check D.csv was successfully created"
      ]
    },
    {
      "cell_type": "code",
      "metadata": {
        "id": "BG7CKek-0Isq",
        "colab_type": "code",
        "colab": {
          "base_uri": "https://localhost:8080/",
          "height": 36
        },
        "outputId": "a99be85b-8a71-421c-f47b-da08e20f1e83"
      },
      "source": [
        ""
      ],
      "execution_count": null,
      "outputs": [
        {
          "output_type": "stream",
          "text": [
            "D.csv  sample_data\n"
          ],
          "name": "stdout"
        }
      ]
    },
    {
      "cell_type": "markdown",
      "metadata": {
        "id": "CEwPwFBj2cwd",
        "colab_type": "text"
      },
      "source": [
        "TO DO: display the first 20 lines of D.csv using the UNIX command 'head'."
      ]
    },
    {
      "cell_type": "code",
      "metadata": {
        "id": "OsN7VJNH0bzY",
        "colab_type": "code",
        "colab": {
          "base_uri": "https://localhost:8080/",
          "height": 357
        },
        "outputId": "d65c14a7-b38e-4ba2-d2c5-4b6adf70d4c2"
      },
      "source": [
        "!head -n 20 D.csv"
      ],
      "execution_count": 43,
      "outputs": [
        {
          "output_type": "stream",
          "text": [
            ",X,Y\n",
            "0,93.41407182087292,0.0\n",
            "1,22.250749776704044,1.0\n",
            "2,33.167751024844634,1.0\n",
            "3,84.8147415550773,0.0\n",
            "4,47.18606297188378,0.0\n",
            "5,31.386343115701564,1.0\n",
            "6,29.075957651493056,0.0\n",
            "7,33.454286093814005,1.0\n",
            "8,36.18881424974336,1.0\n",
            "9,36.98459571004704,1.0\n",
            "10,24.420992764943595,0.0\n",
            "11,92.86389716480382,0.0\n",
            "12,23.31586023252956,1.0\n",
            "13,20.649941056420616,0.0\n",
            "14,84.43961706652287,0.0\n",
            "15,53.67083120926216,1.0\n",
            "16,81.3198246897166,0.0\n",
            "17,36.027718049084335,1.0\n",
            "18,46.16106882328247,1.0\n"
          ],
          "name": "stdout"
        }
      ]
    }
  ]
}